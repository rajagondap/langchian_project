{
 "cells": [
  {
   "cell_type": "markdown",
   "id": "859c5318-e043-4544-82c3-c2cb6b2f04d0",
   "metadata": {},
   "source": [
    "### Getting started With Langchain And Open AI\n",
    "\n",
    "In this Quickstart lets explore how to:\n",
    "\n",
    "-  Get setup with LangChain, LangSmith and LangServe\n",
    "-  Use the most basic and common components of LangChain: Prompt templates, models, and output parsers.\n",
    "-  Build a simple application with Langchain\n",
    "-  Trace your application with LangSmith\n",
    "-  Serve your application with LangServe"
   ]
  },
  {
   "cell_type": "code",
   "execution_count": null,
   "id": "f6dcc721-5e26-4485-92fb-7a3cefda8619",
   "metadata": {},
   "outputs": [],
   "source": []
  }
 ],
 "metadata": {
  "kernelspec": {
   "display_name": "Python 3 (ipykernel)",
   "language": "python",
   "name": "python3"
  },
  "language_info": {
   "codemirror_mode": {
    "name": "ipython",
    "version": 3
   },
   "file_extension": ".py",
   "mimetype": "text/x-python",
   "name": "python",
   "nbconvert_exporter": "python",
   "pygments_lexer": "ipython3",
   "version": "3.13.1"
  }
 },
 "nbformat": 4,
 "nbformat_minor": 5
}
