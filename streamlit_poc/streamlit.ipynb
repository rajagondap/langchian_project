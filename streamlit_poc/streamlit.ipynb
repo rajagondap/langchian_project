{
 "cells": [
  {
   "cell_type": "markdown",
   "id": "358b8083",
   "metadata": {},
   "source": [
    "Streamlit- open source app framework for ML and DS projects. \n",
    "Allows- create beautiful web apps for your ML and DS projects with simple python scripts\n",
    "\n",
    "- Build and share data apps in minutes\n",
    "- No front-end experience required\n",
    "- No configuration required\n",
    "- Fast to deploy\n",
    "- Open source and free to use.\n",
    "- Supports Python, R, Julia, Node.js, and more.\n",
    "- Integrates with popular ML libraries like TensorFlow, PyTorch, and scikit-learn.\n",
    "- Offers built-in support for data visualization libraries like Matplotlib, Plotly, and Altair.\n",
    "- Provides a simple API for building web apps with minimal code."
   ]
  },
  {
   "cell_type": "code",
   "execution_count": null,
   "id": "e99afc9f",
   "metadata": {
    "vscode": {
     "languageId": "plaintext"
    }
   },
   "outputs": [],
   "source": []
  }
 ],
 "metadata": {
  "language_info": {
   "name": "python"
  }
 },
 "nbformat": 4,
 "nbformat_minor": 5
}
