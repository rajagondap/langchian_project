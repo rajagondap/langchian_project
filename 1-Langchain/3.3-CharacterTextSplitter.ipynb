{
 "cells": [
  {
   "cell_type": "markdown",
   "id": "050cda76",
   "metadata": {},
   "source": [
    "### Text Splitting from Documents - # How to split by character - Character Text Splitter\n",
    "\n",
    "This is the simplest method. This splits based on a given character sequence, which defaults to \"\\n\\n\". Chunk length is measured by number of characters.\n",
    "\n",
    "1. How the text is split: by single character separator.\n",
    "2. How the chunk size is measured: by number of characters.\n"
   ]
  },
  {
   "cell_type": "code",
   "execution_count": 1,
   "id": "a8c341a2",
   "metadata": {},
   "outputs": [
    {
     "data": {
      "text/plain": [
       "[Document(metadata={'source': 'ipl_detail.txt'}, page_content='IPL 2025 Tournament Update (As of April 20, 2025)\\n\\nTournament Overview\\n\\nIPL 2025 began on March 22 and will end on May 25.\\n\\nThe final will be held at Eden Gardens, Kolkata.\\n\\nThere are 10 teams competing across 74 matches in 13 cities.\\n\\nRecent Highlights\\n\\nDelhi Capitals lost their first match of the season to Mumbai Indians by 12 runs, ending their unbeaten streak.\\n\\nGujarat Titans replaced injured Glenn Phillips with Dasun Shanaka.\\n\\nRCB (Royal Challengers Bengaluru) lost their third consecutive home match, this time to Punjab Kings.\\n\\nWill Jacks of Mumbai Indians starred with both bat and ball against Sunrisers Hyderabad.\\n\\nChennai Super Kings broke their 5-match losing streak with a win against Lucknow Super Giants.\\n\\nEmerging Talent\\n\\nPriyansh Arya (Punjab Kings) scored 47 in his debut and followed up with a 39-ball century against Chennai Super Kings.\\n\\nUpcoming Fixtures\\n\\nQualifier 1: May 20 in Hyderabad\\n\\nEliminator: May 21 in Hyderabad\\n\\nQualifier 2: May 23 in Kolkata\\n\\nFinal: May 25 in Kolkata')]"
      ]
     },
     "execution_count": 1,
     "metadata": {},
     "output_type": "execute_result"
    }
   ],
   "source": [
    "## Text loader\n",
    "from langchain.document_loaders import TextLoader\n",
    "\n",
    "loader = TextLoader(\"ipl_detail.txt\")\n",
    "docs = loader.load()\n",
    "docs"
   ]
  },
  {
   "cell_type": "code",
   "execution_count": 2,
   "id": "319c3d60",
   "metadata": {},
   "outputs": [
    {
     "name": "stderr",
     "output_type": "stream",
     "text": [
      "Created a chunk of size 111, which is longer than the specified 100\n",
      "Created a chunk of size 101, which is longer than the specified 100\n",
      "Created a chunk of size 119, which is longer than the specified 100\n"
     ]
    },
    {
     "data": {
      "text/plain": [
       "[Document(metadata={'source': 'ipl_detail.txt'}, page_content='IPL 2025 Tournament Update (As of April 20, 2025)\\n\\nTournament Overview'),\n",
       " Document(metadata={'source': 'ipl_detail.txt'}, page_content='Tournament Overview\\n\\nIPL 2025 began on March 22 and will end on May 25.'),\n",
       " Document(metadata={'source': 'ipl_detail.txt'}, page_content='The final will be held at Eden Gardens, Kolkata.'),\n",
       " Document(metadata={'source': 'ipl_detail.txt'}, page_content='There are 10 teams competing across 74 matches in 13 cities.\\n\\nRecent Highlights'),\n",
       " Document(metadata={'source': 'ipl_detail.txt'}, page_content='Delhi Capitals lost their first match of the season to Mumbai Indians by 12 runs, ending their unbeaten streak.'),\n",
       " Document(metadata={'source': 'ipl_detail.txt'}, page_content='Gujarat Titans replaced injured Glenn Phillips with Dasun Shanaka.'),\n",
       " Document(metadata={'source': 'ipl_detail.txt'}, page_content='RCB (Royal Challengers Bengaluru) lost their third consecutive home match, this time to Punjab Kings.'),\n",
       " Document(metadata={'source': 'ipl_detail.txt'}, page_content='Will Jacks of Mumbai Indians starred with both bat and ball against Sunrisers Hyderabad.'),\n",
       " Document(metadata={'source': 'ipl_detail.txt'}, page_content='Chennai Super Kings broke their 5-match losing streak with a win against Lucknow Super Giants.'),\n",
       " Document(metadata={'source': 'ipl_detail.txt'}, page_content='Emerging Talent'),\n",
       " Document(metadata={'source': 'ipl_detail.txt'}, page_content='Priyansh Arya (Punjab Kings) scored 47 in his debut and followed up with a 39-ball century against Chennai Super Kings.'),\n",
       " Document(metadata={'source': 'ipl_detail.txt'}, page_content='Upcoming Fixtures\\n\\nQualifier 1: May 20 in Hyderabad\\n\\nEliminator: May 21 in Hyderabad'),\n",
       " Document(metadata={'source': 'ipl_detail.txt'}, page_content='Qualifier 2: May 23 in Kolkata\\n\\nFinal: May 25 in Kolkata')]"
      ]
     },
     "execution_count": 2,
     "metadata": {},
     "output_type": "execute_result"
    }
   ],
   "source": [
    "from langchain_text_splitters import CharacterTextSplitter\n",
    "text_splitter = CharacterTextSplitter(separator=\"\\n\\n\", chunk_size=100, chunk_overlap=20)\n",
    "text_splitters = text_splitter.split_documents(docs)\n",
    "text_splitters"
   ]
  },
  {
   "cell_type": "code",
   "execution_count": 9,
   "id": "7633d0bb",
   "metadata": {},
   "outputs": [
    {
     "name": "stderr",
     "output_type": "stream",
     "text": [
      "Created a chunk of size 111, which is longer than the specified 100\n",
      "Created a chunk of size 101, which is longer than the specified 100\n",
      "Created a chunk of size 119, which is longer than the specified 100\n"
     ]
    },
    {
     "name": "stdout",
     "output_type": "stream",
     "text": [
      "page_content='IPL 2025 Tournament Update (As of April 20, 2025)\n",
      "\n",
      "Tournament Overview'\n"
     ]
    }
   ],
   "source": [
    "speach = \"\"\n",
    "with open(\"ipl_detail.txt\", \"r\") as file:\n",
    "    speach = file.read()\n",
    "\n",
    "text_splitter = CharacterTextSplitter(separator=\"\\n\\n\", chunk_size=100, chunk_overlap=20)\n",
    "text = text_splitter.create_documents([speach])\n",
    "print(text[0])"
   ]
  },
  {
   "cell_type": "code",
   "execution_count": null,
   "id": "47abb8a4",
   "metadata": {},
   "outputs": [],
   "source": []
  }
 ],
 "metadata": {
  "kernelspec": {
   "display_name": "venv_311",
   "language": "python",
   "name": "python3"
  },
  "language_info": {
   "codemirror_mode": {
    "name": "ipython",
    "version": 3
   },
   "file_extension": ".py",
   "mimetype": "text/x-python",
   "name": "python",
   "nbconvert_exporter": "python",
   "pygments_lexer": "ipython3",
   "version": "3.11.0"
  }
 },
 "nbformat": 4,
 "nbformat_minor": 5
}
